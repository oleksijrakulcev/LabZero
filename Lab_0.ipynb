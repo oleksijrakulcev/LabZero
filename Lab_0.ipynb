{
 "cells": [
  {
   "cell_type": "code",
   "execution_count": 2,
   "id": "55fb9a02",
   "metadata": {},
   "outputs": [
    {
     "name": "stdout",
     "output_type": "stream",
     "text": [
      "5\n"
     ]
    }
   ],
   "source": [
    "N = ord('О') % 10 + 1\n",
    "print(N)"
   ]
  },
  {
   "cell_type": "code",
   "execution_count": null,
   "id": "bdd6fda5",
   "metadata": {},
   "outputs": [],
   "source": []
  },
  {
   "cell_type": "code",
   "execution_count": 8,
   "id": "37afc455",
   "metadata": {},
   "outputs": [
    {
     "name": "stdout",
     "output_type": "stream",
     "text": [
      "Введіть значення k: 3\n",
      "3-те просте число - це 5\n"
     ]
    }
   ],
   "source": [
    "def is_prime(n):\n",
    "    if n < 2:\n",
    "        return False\n",
    "    for i in range(2, int(n ** 0.5) + 1):\n",
    "        if n % i == 0:\n",
    "            return False\n",
    "    return True\n",
    "\n",
    "def task_5():\n",
    "    k = int(input(\"Введіть значення k: \"))\n",
    "    primes = []\n",
    "    num = 2\n",
    "    while len(primes) < k:\n",
    "        if is_prime(num):\n",
    "            primes.append(num)\n",
    "        num += 1\n",
    "    print(f\"{k}-те просте число - це {primes[-1]}\")\n",
    "\n",
    "task_5()"
   ]
  },
  {
   "cell_type": "code",
   "execution_count": 9,
   "id": "7adc4312",
   "metadata": {},
   "outputs": [
    {
     "name": "stdout",
     "output_type": "stream",
     "text": [
      "Введіть значення k: 34\n",
      "34-те просте число - це 139\n"
     ]
    }
   ],
   "source": [
    "task_5()"
   ]
  },
  {
   "cell_type": "markdown",
   "id": "e83c5ef5",
   "metadata": {},
   "source": [
    "# **Гана** 🇬🇭\n",
    "\n",
    "## Загальна інформація\n",
    "\n",
    "<p style=\"border: 2px solid black; padding: 10px;\">\n",
    "<strong>Площа:</strong> 238,533 км² <br>\n",
    "<strong>Населення:</strong> 31.07 мільйона (2020 рік) <br>\n",
    "<strong>Державний устрій:</strong> Президентська республіка\n",
    "</p>\n",
    "\n",
    "## Видатні персоналії\n",
    "\n",
    "- **Кваме Нкрума** – перший президент Гани та один з ключових лідерів африканського руху за незалежність.\n",
    "- **Кофі Аннан** – колишній Генеральний секретар ООН, лауреат Нобелівської премії миру.\n",
    "\n",
    "## Пам'ятки культури та природи\n",
    "\n",
    "### Пам'ятки культури\n",
    "1. **Замок Кейп-Кост** – символ работоргівлі, один з найстаріших європейських замків в Західній Африці.\n",
    "2. **Національний музей Гани** – найбільший і найстаріший музей в країні, який зберігає важливі артефакти історії Гани.\n",
    "\n",
    "### Пам'ятки природи\n",
    "- **Національний парк Какум**\n",
    "  - Прогулянкові доріжки серед лісових крон.\n",
    "  - Захоплюючі види на тропічні ліси.\n",
    "- **Водоспад Влі** – найвищий водоспад в Західній Африці.\n",
    "\n",
    "## Таблиця основних фактів\n",
    "\n",
    "| Показник             | Значення       |\n",
    "|----------------------|----------------|\n",
    "| **Офіційна мова**     | Англійська     |\n",
    "| **Столиця**           | Аккра          |\n",
    "| **Валюта**            | Ганський седі  |\n",
    "| **Клімат**            | Тропічний      |\n",
    "\n",
    "## Культура та традиції\n",
    "\n",
    "<p style=\"color: green;\"><strong>Музика та танці:</strong> Гана має багату музичну спадщину, зокрема традиційні барабанні ритми та танці, такі як Аданса. </p>\n",
    "\n",
    "### Фестивалі\n",
    "- **Фестиваль Гомова** – святкування закінчення голоду.\n",
    "- **Фестиваль Панья»** – традиційне святкування багатства урожаю.\n",
    "\n",
    "## Картинки\n",
    "\n",
    "![Ганський флаг](https://upload.wikimedia.org/wikipedia/commons/1/19/Flag_of_Ghana.svg)\n",
    "\n",
    "## Гіперпосилання\n",
    "- Офіційний сайт [Уряду Гани](https://www.ghana.gov.gh)\n",
    "- Стаття про Гану на [Вікіпедії](https://uk.wikipedia.org/wiki/Гана)"
   ]
  },
  {
   "cell_type": "code",
   "execution_count": null,
   "id": "b078daa6",
   "metadata": {},
   "outputs": [],
   "source": []
  }
 ],
 "metadata": {
  "kernelspec": {
   "display_name": "Python 3 (ipykernel)",
   "language": "python",
   "name": "python3"
  },
  "language_info": {
   "codemirror_mode": {
    "name": "ipython",
    "version": 3
   },
   "file_extension": ".py",
   "mimetype": "text/x-python",
   "name": "python",
   "nbconvert_exporter": "python",
   "pygments_lexer": "ipython3",
   "version": "3.11.5"
  }
 },
 "nbformat": 4,
 "nbformat_minor": 5
}
